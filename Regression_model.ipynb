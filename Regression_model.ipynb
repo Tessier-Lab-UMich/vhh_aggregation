{
 "cells": [
  {
   "cell_type": "markdown",
   "id": "5d5d4a2b-8571-4b59-b504-7cb6fd96abf9",
   "metadata": {},
   "source": [
    "# Random Forest Regression for Predicting VHH Aggregation\n",
    "\n",
    "Author: Chloe Brown (chloebr@umich.edu)\n",
    "\n",
    "Objective: The goal of this notebook is to use Random Forest Regressiont to predict the aggregation properties (% monomer and % aggregate) of VHHs. \n",
    "\n",
    "Packages and Versions Used:\n",
    "1. Python (version 3.9.18)\n",
    "2. Scikit-learn (version 1.5.2)\n",
    "3. Numpy (version 1.26.3)\n",
    "4. Pandas (version 2.2.3)"
   ]
  },
  {
   "cell_type": "code",
   "execution_count": 1,
   "id": "b7c618a7-fe3b-4933-8af0-918ec96366e7",
   "metadata": {},
   "outputs": [],
   "source": [
    "import pandas as pd\n",
    "from sklearn.ensemble import RandomForestRegressor\n",
    "from sklearn.preprocessing import MinMaxScaler\n",
    "from sklearn.model_selection import cross_validate, LeaveOneOut, GridSearchCV\n",
    "from sklearn.metrics import mean_absolute_error, mean_squared_error, mean_absolute_percentage_error\n",
    "import numpy as np"
   ]
  },
  {
   "cell_type": "markdown",
   "id": "fe98f67c-011c-4617-884b-1642f1b5a60e",
   "metadata": {},
   "source": [
    "## **Part I: Input**\n",
    "Fields to Edit: \n",
    "1. **feature_input_path** = file with physicochemical properties from MOE for training dataset. \n",
    "2. **property_input_path** = file with experimental data for training dataset.\n",
    "3. **test_data_file** = file with physicochemical properties from MOE for nanobodies you would like to test. There should also be a column called \"VHH Code\" with the id's associated with each sample.\n",
    "4. **output_file** = file to save results.\n"
   ]
  },
  {
   "cell_type": "code",
   "execution_count": 2,
   "id": "1bf4f6e1-62a7-4e4f-af06-824487217496",
   "metadata": {},
   "outputs": [],
   "source": [
    "# fields to edit\n",
    "\n",
    "feature_input_file = \"molecular_features.csv\"\n",
    "property_input_file = \"sec_data.csv\"\n",
    "test_data_file = \"input.csv\"\n",
    "output_file = \"results.csv\""
   ]
  },
  {
   "cell_type": "code",
   "execution_count": 3,
   "id": "e9697aff-dc79-4b8c-a3b9-7bf1549b9379",
   "metadata": {},
   "outputs": [],
   "source": [
    "# features list\n",
    "comp_cols = ['pI_seq', 'zquadrupole', 'zdipole', 'zeta', 'hyd_moment', 'dipole_moment', 'net_charge', 'asa_hph', \n",
    "             'asa_hyd', 'asa_vdw', 'pI_3D', 'patch_cdr_ion_n', 'patch_cdr_ion_1', 'patch_cdr_ion', 'patch_cdr_neg_n', \n",
    "             'patch_cdr_neg_1', 'patch_cdr_neg', 'patch_cdr_pos_n', 'patch_cdr_pos_1', 'patch_cdr_pos', 'patch_cdr_hyd_n',\n",
    "             'patch_cdr_hyd_1', 'patch_cdr_hyd', 'patch_ion_%', 'patch_ion_n', 'patch_ion_1', 'patch_ion',\n",
    "             'patch_neg_%', 'patch_neg_n', 'patch_neg_1', 'patch_neg', 'patch_pos_%', 'patch_pos_n', 'patch_pos_1', \n",
    "             'patch_pos', 'patch_hyd_%', 'patch_hyd_n', 'patch_hyd_1', 'patch_hyd']\n",
    "\n",
    "# import data\n",
    "properties = pd.read_csv(property_input_file, usecols = ['HMW_up', 'Main_up'])\n",
    "comp_feat = pd.read_csv(feature_input_file).drop(labels = \"VHH Code\", axis = 1)\n",
    "comp_feat = comp_feat[comp_cols]\n",
    "\n",
    "# scale data\n",
    "scaler = MinMaxScaler()\n",
    "comp_feat = pd.DataFrame(scaler.fit_transform(comp_feat), columns = comp_feat.columns)\n",
    "\n",
    "# read in test data\n",
    "vhh = pd.read_csv(test_data_file)\n",
    "\n",
    "# make a df for the results\n",
    "results_df = pd.DataFrame(vhh['VHH Code'])\n",
    "\n",
    "# data preperation\n",
    "vhh = vhh[comp_cols]\n",
    "vhh_scaled = pd.DataFrame(scaler.transform(vhh), columns = vhh.columns)"
   ]
  },
  {
   "cell_type": "markdown",
   "id": "1f95c539-56a8-4613-b0d4-44896d95009f",
   "metadata": {},
   "source": [
    "## **Part 2: % monomer regressor**\n"
   ]
  },
  {
   "cell_type": "code",
   "execution_count": null,
   "id": "3d9601ed-89a0-4b9f-b28e-69c929dd4b12",
   "metadata": {},
   "outputs": [],
   "source": [
    "# train the model\n",
    "X = comp_feat\n",
    "y = properties['Main_up']\n",
    "\n",
    "# cross validation\n",
    "rf = RandomForestRegressor(max_features = .7, n_estimators = 5, random_state = 10,\n",
    "                           max_depth = 5, min_samples_split = 3)\n",
    "rf_cv = cross_validate(rf, X=X, y=y, cv = LeaveOneOut(), \n",
    "                       scoring = 'neg_root_mean_squared_error')\n",
    "print(f\"RMSE from cross validation: {-rf_cv['test_score'].mean():1.3f}\")\n",
    "\n",
    "# fit and evaluate\n",
    "rf.fit(X, y)\n",
    "rf_pred_e = rf.predict(X)\n",
    "print(f\"RMSE: {mean_squared_error(y, rf_pred_e, squared = False):1.3f}\")\n",
    "print(f\"MAE: {mean_absolute_error(y, rf_pred_e):1.3f}\")"
   ]
  },
  {
   "cell_type": "code",
   "execution_count": null,
   "id": "3ecfff88-deb8-4897-a0df-29da373db30a",
   "metadata": {},
   "outputs": [],
   "source": [
    "# predict % monomer\n",
    "vhh_predictions = rf.predict(vhh_scaled)\n",
    "results_df['Main_up'] = vhh_predictions\n",
    "results_df"
   ]
  },
  {
   "cell_type": "markdown",
   "id": "e9722847-ad38-4362-b02b-089b2758430a",
   "metadata": {},
   "source": [
    "## **Part 3: % aggregate regressor**\n"
   ]
  },
  {
   "cell_type": "code",
   "execution_count": null,
   "id": "55e3423b-40f5-4591-bb72-147f01986925",
   "metadata": {},
   "outputs": [],
   "source": [
    "# train the model\n",
    "X = comp_feat\n",
    "y = properties['HMW_up']\n",
    "\n",
    "# cross validation\n",
    "rf = RandomForestRegressor(max_features = .1, n_estimators = 5, random_state = 1,\n",
    "                           max_depth = 5, min_samples_split = 2)\n",
    "rf_cv = cross_validate(rf, X=X, y=y, cv = LeaveOneOut(), \n",
    "                       scoring = 'neg_root_mean_squared_error')\n",
    "print(f\"RMSE from cross validation: {-rf_cv['test_score'].mean():1.3f}\")\n",
    "\n",
    "# fit and evaluate\n",
    "rf.fit(X, y)\n",
    "rf_pred_e = rf.predict(X)\n",
    "print(f\"RMSE: {mean_squared_error(y, rf_pred_e, squared = False):1.3f}\")\n",
    "print(f\"MAE: {mean_absolute_error(y, rf_pred_e):1.3f}\")"
   ]
  },
  {
   "cell_type": "code",
   "execution_count": null,
   "id": "796469bf-9bb8-49ef-889a-aab44d578c32",
   "metadata": {},
   "outputs": [],
   "source": [
    "# predict vhh\n",
    "vhh_predictions = rf.predict(vhh_scaled)\n",
    "results_df['HMW_up'] = vhh_predictions\n",
    "results_df"
   ]
  },
  {
   "cell_type": "markdown",
   "id": "f9772b6a-37bc-4c36-99b1-6c2743cce61a",
   "metadata": {},
   "source": [
    "## **Save Results**"
   ]
  },
  {
   "cell_type": "code",
   "execution_count": null,
   "id": "e0e6eb88-1b2c-4ea8-a65f-6447027d98da",
   "metadata": {},
   "outputs": [],
   "source": [
    "results_df.to_csv(output_file)"
   ]
  },
  {
   "cell_type": "code",
   "execution_count": null,
   "id": "aff8651c-1602-448a-8ffa-338a1f5b1e2e",
   "metadata": {},
   "outputs": [],
   "source": []
  }
 ],
 "metadata": {
  "kernelspec": {
   "display_name": "Python 3 (ipykernel)",
   "language": "python",
   "name": "python3"
  },
  "language_info": {
   "codemirror_mode": {
    "name": "ipython",
    "version": 3
   },
   "file_extension": ".py",
   "mimetype": "text/x-python",
   "name": "python",
   "nbconvert_exporter": "python",
   "pygments_lexer": "ipython3",
   "version": "3.9.21"
  }
 },
 "nbformat": 4,
 "nbformat_minor": 5
}
